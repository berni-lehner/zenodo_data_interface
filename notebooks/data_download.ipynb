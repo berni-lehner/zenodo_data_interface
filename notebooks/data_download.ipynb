{
 "cells": [
  {
   "cell_type": "markdown",
   "id": "805a28d1-7b7a-4bd5-92ac-3c4edb2bd211",
   "metadata": {},
   "source": [
    "# Data download from zenodo.org\n",
    "In this notebook, we demonstrate how to use the DataDownloader to connect to zenodo.org and download the given .zip file in a specific directory. Additionally, we demonstrate how to use caching, so that the data is not downloaded twice.\n",
    "\n",
    "[![Open In Colab](https://colab.research.google.com/assets/colab-badge.svg)](https://colab.research.google.com/github/berni-lehner/zenodo_data_interface/blob/main/notebooks/data_download.ipynb)"
   ]
  },
  {
   "cell_type": "code",
   "execution_count": 1,
   "id": "344a9419-7780-41d7-a9f0-63ce1c36a94c",
   "metadata": {},
   "outputs": [],
   "source": [
    "random_state = None"
   ]
  },
  {
   "cell_type": "code",
   "execution_count": 2,
   "id": "e6eb16a0-75b8-410e-bf8b-0abaca437c6f",
   "metadata": {},
   "outputs": [],
   "source": [
    "import sys\n",
    "import os\n",
    "import time\n",
    "import glob\n",
    "from pathlib import Path\n",
    "import sklearn\n",
    "import pandas as pd\n",
    "import numpy as np\n",
    "from collections import Counter\n",
    "\n",
    "\n",
    "# only relevant for COLAB\n",
    "COLAB_REPO_NAME = \"zenodo_data_interface\"\n",
    "\n",
    "# location for downloaded data\n",
    "DATA_PATH = Path(r\"../data/\")\n",
    "\n",
    "DATA_URL = r\"https://sandbox.zenodo.org/record/1179871/files/mask_dataset.zip\"\n"
   ]
  },
  {
   "cell_type": "code",
   "execution_count": 3,
   "id": "7af5021a-ffb8-47a0-a799-43ac1caf62a0",
   "metadata": {},
   "outputs": [],
   "source": [
    "def init():\n",
    "    IN_COLAB = 'google.colab' in sys.modules\n",
    "\n",
    "    if(IN_COLAB):\n",
    "        !git clone https://github.com/berni-lehner/zenodo_data_interface.git\n",
    "        sys.path.insert(0,\"/content/\" + COLAB_REPO_NAME + \"/src\")\n",
    "        sys.path.insert(0,\"/content/\" + COLAB_REPO_NAME + \"/data\")\n",
    "    else:\n",
    "        sys.path.insert(0,\"../src\")\n",
    "        sys.path.insert(0,\"../data\")\n",
    "\n",
    "    try:\n",
    "        from zippeekiyay import namelist\n",
    "    except ImportError or ModuleNotFoundError:\n",
    "        print('installing zippee-ki-yay...')\n",
    "        !pip install git+https://github.com/berni-lehner/zippee-ki-yay.git\n",
    "\n",
    "        from zippeekiyay import namelist"
   ]
  },
  {
   "cell_type": "code",
   "execution_count": 5,
   "id": "698be2ff-175b-4d5c-9184-c6f40d92091d",
   "metadata": {},
   "outputs": [
    {
     "name": "stdout",
     "output_type": "stream",
     "text": [
      "time passed: 659.04 s\n",
      "downloading synthetic data successful: True\n"
     ]
    }
   ],
   "source": [
    "init()\n",
    "\n",
    "from DataDownloader import DataDownloader as ddl\n",
    "\n",
    "start_time = time.perf_counter()\n",
    "dl_succeed = ddl.download_and_unpack(DATA_URL, DATA_PATH, cache=True)\n",
    "end_time = time.perf_counter()\n",
    "print(f\"time passed: {end_time-start_time:.2f} s\")\n",
    "print(f\"downloading synthetic data successful: {dl_succeed}\")"
   ]
  },
  {
   "cell_type": "code",
   "execution_count": 10,
   "id": "4b93ef56-80bf-40db-83ed-cf35ded8ce12",
   "metadata": {},
   "outputs": [
    {
     "data": {
      "text/plain": [
       "41904"
      ]
     },
     "execution_count": 10,
     "metadata": {},
     "output_type": "execute_result"
    }
   ],
   "source": [
    "file_names = list(DATA_PATH.glob('**/*.png'))\n",
    "len(file_names)"
   ]
  },
  {
   "cell_type": "code",
   "execution_count": 9,
   "id": "53d147dd-d9fb-45bc-80ca-55ca9107d009",
   "metadata": {},
   "outputs": [
    {
     "name": "stdout",
     "output_type": "stream",
     "text": [
      "time passed: 4.52 s\n",
      "downloading successful: True\n"
     ]
    }
   ],
   "source": [
    "start_time = time.perf_counter()\n",
    "dl_succeed = ddl.download_and_unpack(DATA_URL, DATA_PATH, cache=True)\n",
    "end_time = time.perf_counter()\n",
    "print(f\"time passed: {end_time-start_time:.2f} s\")\n",
    "print(f\"downloading successful: {dl_succeed}\")"
   ]
  }
 ],
 "metadata": {
  "kernelspec": {
   "display_name": "Python 3 (ipykernel)",
   "language": "python",
   "name": "python3"
  },
  "language_info": {
   "codemirror_mode": {
    "name": "ipython",
    "version": 3
   },
   "file_extension": ".py",
   "mimetype": "text/x-python",
   "name": "python",
   "nbconvert_exporter": "python",
   "pygments_lexer": "ipython3",
   "version": "3.9.12"
  }
 },
 "nbformat": 4,
 "nbformat_minor": 5
}
